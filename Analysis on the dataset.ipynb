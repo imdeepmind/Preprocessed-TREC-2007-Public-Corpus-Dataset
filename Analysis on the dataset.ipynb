{
 "cells": [
  {
   "cell_type": "code",
   "execution_count": 1,
   "metadata": {},
   "outputs": [],
   "source": [
    "import pandas as pd"
   ]
  },
  {
   "cell_type": "code",
   "execution_count": 2,
   "metadata": {},
   "outputs": [],
   "source": [
    "data = pd.read_csv('data/processed_data.csv')"
   ]
  },
  {
   "cell_type": "code",
   "execution_count": 3,
   "metadata": {},
   "outputs": [
    {
     "data": {
      "text/html": [
       "<div>\n",
       "<style scoped>\n",
       "    .dataframe tbody tr th:only-of-type {\n",
       "        vertical-align: middle;\n",
       "    }\n",
       "\n",
       "    .dataframe tbody tr th {\n",
       "        vertical-align: top;\n",
       "    }\n",
       "\n",
       "    .dataframe thead th {\n",
       "        text-align: right;\n",
       "    }\n",
       "</style>\n",
       "<table border=\"1\" class=\"dataframe\">\n",
       "  <thead>\n",
       "    <tr style=\"text-align: right;\">\n",
       "      <th></th>\n",
       "      <th>label</th>\n",
       "      <th>subject</th>\n",
       "      <th>email_to</th>\n",
       "      <th>email_from</th>\n",
       "      <th>message</th>\n",
       "    </tr>\n",
       "  </thead>\n",
       "  <tbody>\n",
       "    <tr>\n",
       "      <th>0</th>\n",
       "      <td>1</td>\n",
       "      <td>Generic Cialis, branded quality@</td>\n",
       "      <td>the00@speedy.uwaterloo.ca</td>\n",
       "      <td>\"Tomas Jacobs\" &lt;RickyAmes@aol.com&gt;</td>\n",
       "      <td>Content-Type: text/html;\\nContent-Transfer-Enc...</td>\n",
       "    </tr>\n",
       "    <tr>\n",
       "      <th>1</th>\n",
       "      <td>0</td>\n",
       "      <td>Typo in /debian/README</td>\n",
       "      <td>debian-mirrors@lists.debian.org</td>\n",
       "      <td>Yan Morin &lt;yan.morin@savoirfairelinux.com&gt;</td>\n",
       "      <td>Hi, i've just updated from the gulus and I che...</td>\n",
       "    </tr>\n",
       "    <tr>\n",
       "      <th>2</th>\n",
       "      <td>1</td>\n",
       "      <td>authentic viagra</td>\n",
       "      <td>&lt;the00@plg.uwaterloo.ca&gt;</td>\n",
       "      <td>\"Sheila Crenshaw\" &lt;7stocknews@tractionmarketin...</td>\n",
       "      <td>Content-Type: text/plain;\\n\\tcharset=\"iso-8859...</td>\n",
       "    </tr>\n",
       "    <tr>\n",
       "      <th>3</th>\n",
       "      <td>1</td>\n",
       "      <td>Nice talking with ya</td>\n",
       "      <td>opt4@speedy.uwaterloo.ca</td>\n",
       "      <td>\"Stormy Dempsey\" &lt;vqucsmdfgvsg@ruraltek.com&gt;</td>\n",
       "      <td>Hey Billy, \\n\\nit was really fun going out the...</td>\n",
       "    </tr>\n",
       "    <tr>\n",
       "      <th>4</th>\n",
       "      <td>1</td>\n",
       "      <td>or trembling; stomach cramps; trouble in sleep...</td>\n",
       "      <td>ktwarwic@speedy.uwaterloo.ca</td>\n",
       "      <td>\"Christi T. Jernigan\" &lt;dcube@totalink.net&gt;</td>\n",
       "      <td>Content-Type: multipart/alternative;\\n        ...</td>\n",
       "    </tr>\n",
       "  </tbody>\n",
       "</table>\n",
       "</div>"
      ],
      "text/plain": [
       "   label                                            subject  \\\n",
       "0      1                  Generic Cialis, branded quality@    \n",
       "1      0                             Typo in /debian/README   \n",
       "2      1                                   authentic viagra   \n",
       "3      1                               Nice talking with ya   \n",
       "4      1  or trembling; stomach cramps; trouble in sleep...   \n",
       "\n",
       "                          email_to  \\\n",
       "0        the00@speedy.uwaterloo.ca   \n",
       "1  debian-mirrors@lists.debian.org   \n",
       "2         <the00@plg.uwaterloo.ca>   \n",
       "3         opt4@speedy.uwaterloo.ca   \n",
       "4     ktwarwic@speedy.uwaterloo.ca   \n",
       "\n",
       "                                          email_from  \\\n",
       "0                 \"Tomas Jacobs\" <RickyAmes@aol.com>   \n",
       "1         Yan Morin <yan.morin@savoirfairelinux.com>   \n",
       "2  \"Sheila Crenshaw\" <7stocknews@tractionmarketin...   \n",
       "3       \"Stormy Dempsey\" <vqucsmdfgvsg@ruraltek.com>   \n",
       "4         \"Christi T. Jernigan\" <dcube@totalink.net>   \n",
       "\n",
       "                                             message  \n",
       "0  Content-Type: text/html;\\nContent-Transfer-Enc...  \n",
       "1  Hi, i've just updated from the gulus and I che...  \n",
       "2  Content-Type: text/plain;\\n\\tcharset=\"iso-8859...  \n",
       "3  Hey Billy, \\n\\nit was really fun going out the...  \n",
       "4  Content-Type: multipart/alternative;\\n        ...  "
      ]
     },
     "execution_count": 3,
     "metadata": {},
     "output_type": "execute_result"
    }
   ],
   "source": [
    "data.head()"
   ]
  },
  {
   "cell_type": "code",
   "execution_count": 4,
   "metadata": {},
   "outputs": [
    {
     "data": {
      "text/html": [
       "<div>\n",
       "<style scoped>\n",
       "    .dataframe tbody tr th:only-of-type {\n",
       "        vertical-align: middle;\n",
       "    }\n",
       "\n",
       "    .dataframe tbody tr th {\n",
       "        vertical-align: top;\n",
       "    }\n",
       "\n",
       "    .dataframe thead th {\n",
       "        text-align: right;\n",
       "    }\n",
       "</style>\n",
       "<table border=\"1\" class=\"dataframe\">\n",
       "  <thead>\n",
       "    <tr style=\"text-align: right;\">\n",
       "      <th></th>\n",
       "      <th>label</th>\n",
       "      <th>subject</th>\n",
       "      <th>email_to</th>\n",
       "      <th>email_from</th>\n",
       "      <th>message</th>\n",
       "    </tr>\n",
       "  </thead>\n",
       "  <tbody>\n",
       "    <tr>\n",
       "      <th>75414</th>\n",
       "      <td>1</td>\n",
       "      <td>the reply for your request for a job place [le...</td>\n",
       "      <td>\"Gnitpick\" &lt;gnitpick@flax9.uwaterloo.ca&gt;</td>\n",
       "      <td>\"Sydney Car Centre\" &lt;Merrill8783@168city.com&gt;</td>\n",
       "      <td>Content-Type: text/html;\\nContent-Transfer-Enc...</td>\n",
       "    </tr>\n",
       "    <tr>\n",
       "      <th>75415</th>\n",
       "      <td>1</td>\n",
       "      <td>the reply for your request for a job place [le...</td>\n",
       "      <td>\"Gnitpick\" &lt;gnitpick@flax9.uwaterloo.ca&gt;</td>\n",
       "      <td>\"Sydney Car Centre\" &lt;Merrill8783@168city.com&gt;</td>\n",
       "      <td>Content-Type: text/html;\\nContent-Transfer-Enc...</td>\n",
       "    </tr>\n",
       "    <tr>\n",
       "      <th>75416</th>\n",
       "      <td>0</td>\n",
       "      <td>Re: [R] Me again, about the horrible documenta...</td>\n",
       "      <td>Duncan Murdoch &lt;murdoch@stats.uwo.ca&gt;</td>\n",
       "      <td>Philippe Grosjean &lt;phgrosjean@sciviews.org&gt;</td>\n",
       "      <td>For those who are interested, I just cook a li...</td>\n",
       "    </tr>\n",
       "    <tr>\n",
       "      <th>75417</th>\n",
       "      <td>0</td>\n",
       "      <td>Re: [R] RODBC problem</td>\n",
       "      <td>&lt;r-help@stat.math.ethz.ch&gt;</td>\n",
       "      <td>=?iso-8859-1?Q?Bernhard_Wellh=F6fer?=\\n\\t&lt;Bern...</td>\n",
       "      <td>Hello,\\n\\nas I wrote I call\\n\\n  sqlFetch(chan...</td>\n",
       "    </tr>\n",
       "    <tr>\n",
       "      <th>75418</th>\n",
       "      <td>1</td>\n",
       "      <td>I wanted the desk at his own laws: of the.  Bu...</td>\n",
       "      <td>the00@plg.uwaterloo.ca</td>\n",
       "      <td>\"Danny\" &lt;pwcusnt@noblecoffee.com&gt;</td>\n",
       "      <td>Content-Type: multipart/alternative;\\n\\tbounda...</td>\n",
       "    </tr>\n",
       "  </tbody>\n",
       "</table>\n",
       "</div>"
      ],
      "text/plain": [
       "       label                                            subject  \\\n",
       "75414      1  the reply for your request for a job place [le...   \n",
       "75415      1  the reply for your request for a job place [le...   \n",
       "75416      0  Re: [R] Me again, about the horrible documenta...   \n",
       "75417      0                              Re: [R] RODBC problem   \n",
       "75418      1  I wanted the desk at his own laws: of the.  Bu...   \n",
       "\n",
       "                                       email_to  \\\n",
       "75414  \"Gnitpick\" <gnitpick@flax9.uwaterloo.ca>   \n",
       "75415  \"Gnitpick\" <gnitpick@flax9.uwaterloo.ca>   \n",
       "75416     Duncan Murdoch <murdoch@stats.uwo.ca>   \n",
       "75417                <r-help@stat.math.ethz.ch>   \n",
       "75418                    the00@plg.uwaterloo.ca   \n",
       "\n",
       "                                              email_from  \\\n",
       "75414      \"Sydney Car Centre\" <Merrill8783@168city.com>   \n",
       "75415      \"Sydney Car Centre\" <Merrill8783@168city.com>   \n",
       "75416        Philippe Grosjean <phgrosjean@sciviews.org>   \n",
       "75417  =?iso-8859-1?Q?Bernhard_Wellh=F6fer?=\\n\\t<Bern...   \n",
       "75418                  \"Danny\" <pwcusnt@noblecoffee.com>   \n",
       "\n",
       "                                                 message  \n",
       "75414  Content-Type: text/html;\\nContent-Transfer-Enc...  \n",
       "75415  Content-Type: text/html;\\nContent-Transfer-Enc...  \n",
       "75416  For those who are interested, I just cook a li...  \n",
       "75417  Hello,\\n\\nas I wrote I call\\n\\n  sqlFetch(chan...  \n",
       "75418  Content-Type: multipart/alternative;\\n\\tbounda...  "
      ]
     },
     "execution_count": 4,
     "metadata": {},
     "output_type": "execute_result"
    }
   ],
   "source": [
    "data.tail()"
   ]
  },
  {
   "cell_type": "code",
   "execution_count": 5,
   "metadata": {},
   "outputs": [
    {
     "data": {
      "text/plain": [
       "(75419, 5)"
      ]
     },
     "execution_count": 5,
     "metadata": {},
     "output_type": "execute_result"
    }
   ],
   "source": [
    "data.shape"
   ]
  },
  {
   "cell_type": "code",
   "execution_count": 6,
   "metadata": {},
   "outputs": [
    {
     "data": {
      "text/html": [
       "<div>\n",
       "<style scoped>\n",
       "    .dataframe tbody tr th:only-of-type {\n",
       "        vertical-align: middle;\n",
       "    }\n",
       "\n",
       "    .dataframe tbody tr th {\n",
       "        vertical-align: top;\n",
       "    }\n",
       "\n",
       "    .dataframe thead th {\n",
       "        text-align: right;\n",
       "    }\n",
       "</style>\n",
       "<table border=\"1\" class=\"dataframe\">\n",
       "  <thead>\n",
       "    <tr style=\"text-align: right;\">\n",
       "      <th></th>\n",
       "      <th>label</th>\n",
       "    </tr>\n",
       "  </thead>\n",
       "  <tbody>\n",
       "    <tr>\n",
       "      <th>count</th>\n",
       "      <td>75419.000000</td>\n",
       "    </tr>\n",
       "    <tr>\n",
       "      <th>mean</th>\n",
       "      <td>0.665602</td>\n",
       "    </tr>\n",
       "    <tr>\n",
       "      <th>std</th>\n",
       "      <td>0.471783</td>\n",
       "    </tr>\n",
       "    <tr>\n",
       "      <th>min</th>\n",
       "      <td>0.000000</td>\n",
       "    </tr>\n",
       "    <tr>\n",
       "      <th>25%</th>\n",
       "      <td>0.000000</td>\n",
       "    </tr>\n",
       "    <tr>\n",
       "      <th>50%</th>\n",
       "      <td>1.000000</td>\n",
       "    </tr>\n",
       "    <tr>\n",
       "      <th>75%</th>\n",
       "      <td>1.000000</td>\n",
       "    </tr>\n",
       "    <tr>\n",
       "      <th>max</th>\n",
       "      <td>1.000000</td>\n",
       "    </tr>\n",
       "  </tbody>\n",
       "</table>\n",
       "</div>"
      ],
      "text/plain": [
       "              label\n",
       "count  75419.000000\n",
       "mean       0.665602\n",
       "std        0.471783\n",
       "min        0.000000\n",
       "25%        0.000000\n",
       "50%        1.000000\n",
       "75%        1.000000\n",
       "max        1.000000"
      ]
     },
     "execution_count": 6,
     "metadata": {},
     "output_type": "execute_result"
    }
   ],
   "source": [
    "data.describe()"
   ]
  },
  {
   "cell_type": "code",
   "execution_count": 7,
   "metadata": {},
   "outputs": [
    {
     "data": {
      "text/plain": [
       "Index(['label', 'subject', 'email_to', 'email_from', 'message'], dtype='object')"
      ]
     },
     "execution_count": 7,
     "metadata": {},
     "output_type": "execute_result"
    }
   ],
   "source": [
    "data.columns"
   ]
  },
  {
   "cell_type": "code",
   "execution_count": 8,
   "metadata": {},
   "outputs": [
    {
     "data": {
      "text/plain": [
       "<AxesSubplot:>"
      ]
     },
     "execution_count": 8,
     "metadata": {},
     "output_type": "execute_result"
    },
    {
     "data": {
      "image/png": "[encoded data removed]",
      "text/plain": [
       "<Figure size 432x288 with 1 Axes>"
      ]
     },
     "metadata": {
      "needs_background": "light"
     },
     "output_type": "display_data"
    }
   ],
   "source": [
    "data['label'].hist()"
   ]
  },
  {
   "cell_type": "code",
   "execution_count": 11,
   "metadata": {},
   "outputs": [
    {
     "data": {
      "text/plain": [
       "'Content-Type: text/html;\\nContent-Transfer-Encoding: 7Bit Do you feel the pressure to perform and not rising to the occasion?? Try V ia gr a ..... your anxiety will be a thing of the past and you will be back to your old self.'"
      ]
     },
     "execution_count": 11,
     "metadata": {},
     "output_type": "execute_result"
    }
   ],
   "source": [
    "data.loc[0]['message']"
   ]
  },
  {
   "cell_type": "code",
   "execution_count": null,
   "metadata": {},
   "outputs": [],
   "source": []
  }
 ],
 "metadata": {
  "kernelspec": {
   "display_name": "Python 3",
   "language": "python",
   "name": "python3"
  },
  "language_info": {
   "codemirror_mode": {
    "name": "ipython",
    "version": 3
   },
   "file_extension": ".py",
   "mimetype": "text/x-python",
   "name": "python",
   "nbconvert_exporter": "python",
   "pygments_lexer": "ipython3",
   "version": "3.9.2"
  }
 },
 "nbformat": 4,
 "nbformat_minor": 4
}
